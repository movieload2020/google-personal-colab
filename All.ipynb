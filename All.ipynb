{
  "nbformat": 4,
  "nbformat_minor": 0,
  "metadata": {
    "colab": {
      "name": "All.ipynb",
      "provenance": [],
      "collapsed_sections": [
        "jaKcUA5oYYz9",
        "_ipYwH3BwReD",
        "cCotE6pJXMWB",
        "-jx8esjAiIZD",
        "OsqqhH1ThkwG",
        "bgMgZVAp8cYV",
        "7b1a4XlGWNRy",
        "9Ch_vD4QWk0i",
        "CVbs_doDYRBe",
        "o4RrkbKgfM5_",
        "rlX9RzFJRoW-",
        "tdHkmd6olkGV",
        "hi4f8Ba-diVf",
        "bAls_UEYfwIX",
        "IoAshgcf45gs",
        "o1PFiGyMAMvg",
        "mOnUdLJqVaYA",
        "IzjF205BK-Wh",
        "BjYXYIk0VaYE",
        "Dm58cAVSAFbr",
        "9pEUVtA4YeXV",
        "eBHj7XMEp8N7",
        "-LpFJy-8qkBj",
        "39oOe1HirIge",
        "XZxy4CxBUBj1",
        "f0p_edvFr2A-",
        "G3vPTAYdskmq",
        "vE5Prjl5t1uQ",
        "Qu2RbZjJxB5y",
        "CpfvkPu564cM",
        "hZo87XKN7YHm",
        "trPRLFjfxovE",
        "ll3uR99_ibc_",
        "t5yn-porhpKC",
        "Gh9dabzCyJgg",
        "yQyr_zfHz0qC",
        "Szc4itr803-t",
        "XBOe2jPl3WRj",
        "ag_VjIYx35-9",
        "oqJkMYf_7tvd",
        "RWiMH16C8ANH",
        "WRCM_-0S5F4V",
        "FTIDJ9hd5iE7",
        "LsH2s7Lj5hZb",
        "lOcCX2Kb5fe2",
        "IkST90KA7WEH",
        "Wq_76vwh738X",
        "2MElXAaq81Qr",
        "qnlr1ryd9u3E",
        "XHp4-52c-Lg_",
        "Z4ffV7NP-m-q",
        "TDta6MPx-8kE",
        "AabioRnH_hdz",
        "KxNY3VkA_uWb",
        "u7m0qScVACfO",
        "-UTzV-LKBKcE",
        "7fAr0jhAKMh2",
        "NZe7SpWDKY07",
        "FGZpm5vEKJvO"
      ],
      "include_colab_link": true
    },
    "kernelspec": {
      "display_name": "Python 3",
      "name": "python3"
    }
  },
  "cells": [
    {
      "cell_type": "markdown",
      "metadata": {
        "id": "view-in-github",
        "colab_type": "text"
      },
      "source": [
        "<a href=\"https://colab.research.google.com/github/movieload2020/google-personal-colab/blob/main/All.ipynb\" target=\"_parent\"><img src=\"https://colab.research.google.com/assets/colab-badge.svg\" alt=\"Open In Colab\"/></a>"
      ]
    },
    {
      "cell_type": "markdown",
      "metadata": {
        "id": "CFFPQjl-iX0m"
      },
      "source": [
        "<u><font color='#ff6363'>__Mount GDrive__"
      ]
    },
    {
      "cell_type": "code",
      "metadata": {
        "cellView": "form",
        "id": "i6c-t-1txLoU"
      },
      "source": [
        "#@markdown <br><center><img src='https://upload.wikimedia.org/wikipedia/commons/thumb/d/da/Google_Drive_logo.png/600px-Google_Drive_logo.png' height=\"50\" alt=\"Gdrive-logo\"/></center>\n",
        "#@markdown <center><h3>Mount GDrive to /content/drive</h3></center><br>\n",
        "MODE = \"MOUNT\" #@param [\"MOUNT\", \"UNMOUNT\"]\n",
        "#Mount your Gdrive! \n",
        "from google.colab import drive\n",
        "drive.mount._DEBUG = False\n",
        "if MODE == \"MOUNT\":\n",
        "  drive.mount('/content/drive', force_remount=True)\n",
        "elif MODE == \"UNMOUNT\":\n",
        "  try:\n",
        "    drive.flush_and_unmount()\n",
        "  except ValueError:\n",
        "    pass\n",
        "  get_ipython().system_raw(\"rm -rf /root/.config/Google/DriveFS\")"
      ],
      "execution_count": null,
      "outputs": []
    },
    {
      "cell_type": "markdown",
      "metadata": {
        "id": "jaKcUA5oYYz9"
      },
      "source": [
        "# <center><font color='red'>__•••••••••••X•••••••••••__</font></center>"
      ]
    },
    {
      "cell_type": "markdown",
      "metadata": {
        "id": "_ipYwH3BwReD"
      },
      "source": [
        "# 🚩<font color='#ff6363'><u>___Count Number of files in folder___"
      ]
    },
    {
      "cell_type": "markdown",
      "metadata": {
        "id": "WkkB5CTXm9pK"
      },
      "source": [
        "Folder Exp:\n",
        "/content/drive/MyDrive"
      ]
    },
    {
      "cell_type": "code",
      "metadata": {
        "cellView": "form",
        "id": "78LP_PIx5L-G"
      },
      "source": [
        "#@markdown <h3><b>←</b> Click Here to Start</h3> \n",
        "#@markdown Enter Path to see size and path\n",
        "import glob\n",
        "import os\n",
        "dir_name = '/content/drive/MyDrive/YT_Downloads/' #@param {type:\"string\"}\n",
        "# Get a list of files (file paths) in the given directory \n",
        "list_of_files = filter( os.path.isfile,\n",
        "                        glob.glob(dir_name + '/**/*', recursive=True) )\n",
        "# get list of ffiles with size\n",
        "files_with_size = [ (file_path, os.stat(file_path).st_size) \n",
        "                    for file_path in list_of_files ]\n",
        "# Iterate over list of tuples i.e. file_paths with size\n",
        "# and print them one by one\n",
        "for file_path, file_size in files_with_size:\n",
        "    print(\"%.2f\" % (file_size/1024**2), 'MB/' \"%.2f\" % (file_size/1024), 'KB' ' -->', '\\n', file_path, '\\n')  \n"
      ],
      "execution_count": null,
      "outputs": []
    },
    {
      "cell_type": "code",
      "metadata": {
        "cellView": "form",
        "id": "6n9_0s7AsbV2"
      },
      "source": [
        "#@markdown <h3><b>←</b> Click Here to Start</h3>  \n",
        "#@markdown Enter Path to see Number of files\n",
        "import os\n",
        "FOLDER_PATH = input(\"Path for counting: \")\n",
        "print(\"Number of files ↓\")\n",
        "print(len(os.listdir(FOLDER_PATH)))"
      ],
      "execution_count": null,
      "outputs": []
    },
    {
      "cell_type": "markdown",
      "metadata": {
        "id": "cCotE6pJXMWB"
      },
      "source": [
        "# <center><font color='red'>__•••••••••••X•••••••••••__</font></center>"
      ]
    },
    {
      "cell_type": "markdown",
      "metadata": {
        "id": "-jx8esjAiIZD"
      },
      "source": [
        "# 🚩<font color='#ff6363'><u>___Generate-Drive-Link-Colab___</u>"
      ]
    },
    {
      "cell_type": "code",
      "metadata": {
        "cellView": "form",
        "id": "NoGJldY9hn2K"
      },
      "source": [
        "#@title ← Click to Install 'KORA'\n",
        "!pip install kora"
      ],
      "execution_count": null,
      "outputs": []
    },
    {
      "cell_type": "code",
      "metadata": {
        "cellView": "form",
        "id": "zwu0rOMth79U"
      },
      "source": [
        "#@title ← Click to Generate Drive Link(Install 'KORA' before)\n",
        "import os \n",
        "from IPython.display import HTML\n",
        "from kora.xattr import get_id\n",
        "link = '/content/drive/MyDrive/YT_Downloads/Squid.Game.S01E09.(NKIRI.COM).nciocniosdcnoisdncsdioncoisdnc' #@param {type:\"string\"}\n",
        "\n",
        "fid = get_id(str(link))\n",
        "head, tail = os.path.split(str(link))\n",
        "HTML(f\"<a href=https://drive.google.com/file/d/{fid}/view target=_blank><b> {tail} </b></a>\")\n"
      ],
      "execution_count": null,
      "outputs": []
    },
    {
      "cell_type": "markdown",
      "metadata": {
        "id": "OsqqhH1ThkwG"
      },
      "source": [
        "# <center><font color='red'>__•••••••••••X•••••••••••__</font></center>"
      ]
    },
    {
      "cell_type": "markdown",
      "metadata": {
        "id": "bgMgZVAp8cYV"
      },
      "source": [
        "# 🚩<font color='#ff6363'><u>___Move/copy files-Colab___"
      ]
    },
    {
      "cell_type": "markdown",
      "metadata": {
        "id": "7b1a4XlGWNRy"
      },
      "source": [
        "## **Move Files**"
      ]
    },
    {
      "cell_type": "code",
      "metadata": {
        "cellView": "form",
        "id": "venKwfB9Fzjp"
      },
      "source": [
        "#@title ← Click to Run Move all file directory\n",
        "import shutil\n",
        "import os,glob\n",
        "\n",
        "inpath = \"/content/drive/Shareddrives/movieload2020/Untitled Folder\" #@param {type:\"string\"}\n",
        "outpath = \"/content/drive/MyDrive/GDToT\" #@param {type:\"string\"}\n",
        "extension = \"*.mkv\" #@param [\"*.mkv\", \"*.mp4\"] {allow-input: true}\n",
        "\n",
        "os.chdir(inpath)\n",
        "for file in glob.glob(extension):\n",
        "\n",
        "    shutil.move(inpath+'/'+file,outpath)\n",
        "print (\"Successfully moved to → ° %s °\" % outpath)\n"
      ],
      "execution_count": null,
      "outputs": []
    },
    {
      "cell_type": "code",
      "metadata": {
        "cellView": "form",
        "id": "b45XOe8c8lU_"
      },
      "source": [
        "#@title ← Click to Run Move single file\n",
        "Enter_File_Path = \"/content/drive/MyDrive/YT_Downloads/O Maa _ OST of Maayer Daak _ Rupak _ Tahsan _ Tawsif _ Jovan _ Mamo _ Farin _ Payel _ Dilara Zaman-7amnLWMq6zM.mkv\" #@param {type:\"string\"}\n",
        "Destination_Folder_Path = \"/content/drive/Shareddrives/movieload2020/Movies\" #@param {type:\"string\"}\n",
        "!mv \"$Enter_File_Path\" \"$Destination_Folder_Path\"\n",
        "from IPython.display import HTML, display\n",
        "import time\n",
        " \n",
        "def progress(value, max=100):\n",
        "    return HTML(\"\"\"\n",
        "        <progress\n",
        "            value='{value}'\n",
        "            max='{max}',\n",
        "            style='width: 60%'\n",
        "        >\n",
        "            {value}\n",
        "        </progress>\n",
        "    \"\"\".format(value=value, max=max))\n",
        " \n",
        "out = display(progress(0, 100), display_id=True)\n",
        "for ii in range(101):\n",
        "    time.sleep(0.02)\n",
        "    out.update(progress(ii, 100))\n",
        "print(\"Copied successfully!\")"
      ],
      "execution_count": null,
      "outputs": []
    },
    {
      "cell_type": "markdown",
      "metadata": {
        "id": "9Ch_vD4QWk0i"
      },
      "source": [
        "## **Copy Files**"
      ]
    },
    {
      "cell_type": "code",
      "metadata": {
        "cellView": "form",
        "id": "Th3_hPyJTo8X"
      },
      "source": [
        "Enter_File_Path = \"\" #@param {type:\"string\"}\n",
        "Destination_Folder_Path = \"/content/drive/Shareddrives/movieload2020\" #@param {type:\"string\"}\n",
        "!cp \"$Enter_File_Path\" \"$Destination_Folder_Path\"\n",
        "from IPython.display import HTML, display\n",
        "import time\n",
        " \n",
        "def progress(value, max=100):\n",
        "    return HTML(\"\"\"\n",
        "        <progress\n",
        "            value='{value}'\n",
        "            max='{max}',\n",
        "            style='width: 60%'\n",
        "        >\n",
        "            {value}\n",
        "        </progress>\n",
        "    \"\"\".format(value=value, max=max))\n",
        " \n",
        "out = display(progress(0, 100), display_id=True)\n",
        "for ii in range(101):\n",
        "    time.sleep(0.02)\n",
        "    out.update(progress(ii, 100))\n",
        "print(\"Copied successfully!\")"
      ],
      "execution_count": null,
      "outputs": []
    },
    {
      "cell_type": "markdown",
      "metadata": {
        "id": "CVbs_doDYRBe"
      },
      "source": [
        "# <center><font color='red'>__•••••••••••X•••••••••••__</font></center>"
      ]
    },
    {
      "cell_type": "markdown",
      "metadata": {
        "id": "o4RrkbKgfM5_"
      },
      "source": [
        "# 🚩<font color='#ff6363'><u>___Run-Rar-Unrar-Colab___</u>"
      ]
    },
    {
      "cell_type": "markdown",
      "metadata": {
        "id": "rlX9RzFJRoW-"
      },
      "source": [
        "## **<center><font color='#ff6363'> Compress/Decompress Files in Google Drive </font></center>**"
      ]
    },
    {
      "cell_type": "markdown",
      "metadata": {
        "id": "tdHkmd6olkGV"
      },
      "source": [
        "### **<font color=\"red\">Important note</font> - After doing all the steps, please note that depending on your file size of the Zip and Rar files, it may take a while to show up in your Google Drive. Please be patient. Eventually, it will show up in your drive.**\n",
        "###**<font color=\"red\">For larger files</font> - it may take some time to show up in your Google Drive. Do not rerun the code if it doesn't show up fast. Just keep refreshing your Google Drive page to see if it shows up**\n",
        "###**<font color=\"red\">For small files</font> - it will show up quicker in your Google Drive. Just wait until it shows up. Just keep refreshing your page to see if it shows up**\n",
        "###**<font color=\"red\">Update</font> - added some features**\n",
        "* Extract/create password protected rar files\n",
        "* Extract/create tar/tar.gz/tar/bz files\n"
      ]
    },
    {
      "cell_type": "markdown",
      "metadata": {
        "id": "hi4f8Ba-diVf"
      },
      "source": [
        "##__Unzip/Unrar/Untar Files__"
      ]
    },
    {
      "cell_type": "markdown",
      "metadata": {
        "id": "bAls_UEYfwIX"
      },
      "source": [
        "###<center><font color='#ff6363'>__Unzip Files__"
      ]
    },
    {
      "cell_type": "markdown",
      "metadata": {
        "id": "o_zFmom9fWNW"
      },
      "source": [
        "*   First path in below cell - Your Google Drive file location which you want to Unzip\n",
        "*   Second path in below cell - Path where you want to extract the zip file in Google Drive"
      ]
    },
    {
      "cell_type": "code",
      "metadata": {
        "cellView": "form",
        "id": "T1TXMk7mdXFw"
      },
      "source": [
        " \n",
        " \n",
        "#@markdown *Input folder will be copied into the destination folder.*\n",
        "input_folder = \"/content/drive/Shareddrives/movieload2020/Movies/Loki.S01.720p.WEB-DL.Dual.zip\" #@param {type:\"string\"}\n",
        "destination_folder = \"/content/drive/MyDrive/DriveBuzz\" #@param {type:\"string\"}\n",
        "!unzip \"$input_folder\" -d \"$destination_folder\"\n",
        "print(\"Copied successfully!\")"
      ],
      "execution_count": null,
      "outputs": []
    },
    {
      "cell_type": "markdown",
      "metadata": {
        "id": "IoAshgcf45gs"
      },
      "source": [
        "###<center><font color='#ff6363'>__Unrar Files</center>__\n",
        "\n",
        "\n",
        "\n"
      ]
    },
    {
      "cell_type": "markdown",
      "metadata": {
        "id": "Z1Ql6FiDdBYW"
      },
      "source": [
        "*   First path in below cell - Your Google Drive file location which you want to Unrar\n",
        "*   Second path in below cell - Path where you want to extract the rar file in Google Drive\n",
        "\n",
        "*If you want to extract a password protected rar file, then add \"-Y\" flag or Use this command instead of the command in the cell\n",
        "(replace the command with the command in the cell)*\n",
        "\n",
        "* ```\n",
        "!unrar x -Y \"/content/drive/path/input_file_name.rar\" \"/content/drive/path/output_folder/\"\n",
        "```\n",
        "\n",
        "\n",
        "\n"
      ]
    },
    {
      "cell_type": "code",
      "metadata": {
        "cellView": "form",
        "id": "qVmkfyv_V9si"
      },
      "source": [
        "Enter_Rar_File_Link = \"/content/drive/MyDrive/GDToT/Mohanagar.S01E01.Bengali.1080p[FreeDriveMovie.com]Hoichoi.WEBRip.AAC.2.0.HEVC.rar\" #@param {type:\"string\"}\n",
        "Destination_folder = \"/content/drive/MyDrive/GDToT\" #@param {type:\"string\"}\n",
        "!unrar x \"$Enter_Rar_File_Link\" \"$Destination_folder\"\n",
        "print(\"Copied successfully!\")"
      ],
      "execution_count": null,
      "outputs": []
    },
    {
      "cell_type": "markdown",
      "metadata": {
        "id": "h_wQIMPcznZZ"
      },
      "source": [
        "<center> <h1><b>With Password</b></h1> </center>"
      ]
    },
    {
      "cell_type": "code",
      "metadata": {
        "cellView": "form",
        "id": "qdP2tWJ0zUUd"
      },
      "source": [
        "Enter_Rar_File_Link = \"/content/drive/MyDrive/Colab.rar\" #@param {type:\"string\"}\n",
        "Destination_folder = \"/content/drive/MyDrive/DriveBuzz\" #@param {type:\"string\"}\n",
        "!unrar x -Y \"$Enter_Rar_File_Link\" \"$Destination_folder\"\n",
        "print(\"Copied successfully!\")"
      ],
      "execution_count": null,
      "outputs": []
    },
    {
      "cell_type": "markdown",
      "metadata": {
        "id": "o1PFiGyMAMvg"
      },
      "source": [
        "###<center><font color='#ff6363'>__Untar Files__\n",
        "\n"
      ]
    },
    {
      "cell_type": "markdown",
      "metadata": {
        "id": "sBWJzqQtAMvg"
      },
      "source": [
        "*   First path in below cell - Your Google Drive file location which you want to Untar\n",
        "*   Second path in below cell - Path where you want to extract the tar file in Google Drive\n",
        "\n",
        " *__Flags__*\n",
        "\n",
        " * -x : Extract a tar ball.\n",
        " * -v : Verbose output or show progress while extracting files.\n",
        " * -f : Specify an archive or a tarball filename.\n",
        " * -C : Specify a different directory to extract\n",
        " * -z : Decompress and extract the contents of the compressed archive created by gzip program (tar.gz extension).\n",
        " * -j : Decompress and extract the contents of the compressed archive created by bzip2 program (tar.bz2 extension)."
      ]
    },
    {
      "cell_type": "code",
      "metadata": {
        "cellView": "both",
        "colab": {
          "background_save": true
        },
        "id": "EKjIowyWAMvh"
      },
      "source": [
        "!tar -xvf \"/content/drive/MyDrive/GDToT/Morichika S01 2021 720P[FreeDriveMovie.com]WEBDL h264.tar\" -C \"/content/drive/MyDrive/GDToT\"     #[run this cell to extract tar files]"
      ],
      "execution_count": null,
      "outputs": []
    },
    {
      "cell_type": "code",
      "metadata": {
        "id": "YfSkw7IFH2pl"
      },
      "source": [
        "!tar -xzvf \"/content/drive/path/input_file_name.tar.gz\" -C \"/content/drive/path/output_folder/\"     #[run this cell to extract tar.gz files]"
      ],
      "execution_count": null,
      "outputs": []
    },
    {
      "cell_type": "code",
      "metadata": {
        "id": "tVaZLH-hH54z"
      },
      "source": [
        "!tar -xjvf \"/content/drive/path/input_file_name.tar.bz2\" -C \"/content/drive/path/output_folder/\"     #[run this cell to extract tar.bz2 files]"
      ],
      "execution_count": null,
      "outputs": []
    },
    {
      "cell_type": "markdown",
      "metadata": {
        "id": "mOnUdLJqVaYA"
      },
      "source": [
        "##__Zip/Rar/Tar Files/Folders__"
      ]
    },
    {
      "cell_type": "markdown",
      "metadata": {
        "id": "IzjF205BK-Wh"
      },
      "source": [
        "###<center><font color='#ff6363'>__Zip Files/Folders__"
      ]
    },
    {
      "cell_type": "markdown",
      "metadata": {
        "id": "zzDxxVgUN6qg"
      },
      "source": [
        "*   First path in below cell - Your Zip File output Name (Don't need to Put .zip at the end. It will take it automatically)\n",
        "*   Second path in below cell - Google Drive file location of the files/folder which you want to Zip"
      ]
    },
    {
      "cell_type": "code",
      "metadata": {
        "cellView": "form",
        "id": "PLBEJNwBLFG_"
      },
      "source": [
        " \n",
        "#@markdown **Enter File_Path/Name.Zip → Source_Path**\n",
        "Enter_Name = \"/content/drive/MyDrive/DriveBuzz/JavaScript Tutorial\" #@param {type:\"string\"}\n",
        "Destination_folder = \"/content/drive/MyDrive/GDToT/YT Downloads\" #@param {type:\"string\"}\n",
        "!zip -r \"$Enter_Name\" \"$Destination_folder\"\n",
        "print(\"Zipped successfully!\")"
      ],
      "execution_count": null,
      "outputs": []
    },
    {
      "cell_type": "markdown",
      "metadata": {
        "id": "BjYXYIk0VaYE"
      },
      "source": [
        "###<center><font color='#ff6363'>__Rar Files/Folders__"
      ]
    },
    {
      "cell_type": "code",
      "metadata": {
        "id": "lNeNaDMSWHFI"
      },
      "source": [
        "# <= Click this cell to rar the folder\n",
        " \n",
        "!apt-get install rar"
      ],
      "execution_count": null,
      "outputs": []
    },
    {
      "cell_type": "markdown",
      "metadata": {
        "id": "G24N0obDVaYE"
      },
      "source": [
        "*   First path in below cell - Your Rar File output Name (do not put .rar at the end. It will take it automatically)\n",
        "*   Second path in below cell - Google Drive file location of the files/folder which you want to Rar\n",
        " \n",
        "*If you want to create a password protected rar file, then add \"-p\" flag or Use this command instead of the command in in the cell.\n",
        "(replace the command with the command in the cell) After running the cell, it will ask you to provide the password*\n",
        " \n",
        "* ```\n",
        "!rar a -p \"/content/drive/path/output_file_name\" \"/content/drive/path/input_file_or_folder\"\n",
        "```"
      ]
    },
    {
      "cell_type": "code",
      "metadata": {
        "cellView": "form",
        "id": "bVMBS23Pn9iO"
      },
      "source": [
        "#@markdown **Enter File_Path/Name → Source_Path**\n",
        "Enter_Name = \"JavaScript Tutorial\" #@param {type:\"string\"}\n",
        "Destination_folder = \"/content/drive/MyDrive/GDToT/YT Downloads\" #@param {type:\"string\"}\n",
        "!rar a \"$Enter_Name\" \"$Destination_folder\""
      ],
      "execution_count": null,
      "outputs": []
    },
    {
      "cell_type": "markdown",
      "metadata": {
        "id": "Dm58cAVSAFbr"
      },
      "source": [
        "###<center><font color='#ff6363'>__Tar Files/Folders__\n",
        "\n"
      ]
    },
    {
      "cell_type": "markdown",
      "metadata": {
        "id": "9aBzSi69AFbt"
      },
      "source": [
        "*   First path in below cell - Your Tar output filename\n",
        "*   Second path in below cell - Google Drive file location of the files which you want to Tar\n",
        "\n",
        " *__Flags__*\n",
        "\n",
        " * -c : Create a new archive\n",
        " * -v : Verbose output\n",
        " * -f : Use the given archive file (name.extention)\n",
        " * -z : Filter the archive through gzip\n",
        " * -j : Filter the archive through bzip2"
      ]
    },
    {
      "cell_type": "code",
      "metadata": {
        "cellView": "both",
        "id": "EjAf_hxSAFbt"
      },
      "source": [
        "!tar -cvf \"/content/drive/path/output_file_name.tar\" \"/content/drive/path/input_file_or_folder\"     #[run this cell to create tar files]"
      ],
      "execution_count": null,
      "outputs": []
    },
    {
      "cell_type": "code",
      "metadata": {
        "id": "0n-O8xGADZ2o"
      },
      "source": [
        "!tar -czvf \"/content/drive/path/output_file_name.tar.gz\" \"/content/drive/path/input_file_or_folder\"     #[run this cell to create tar.gz files]"
      ],
      "execution_count": null,
      "outputs": []
    },
    {
      "cell_type": "code",
      "metadata": {
        "id": "qjdZ4cTbD8qx"
      },
      "source": [
        "!tar -cjvf \"/content/drive/path/output_file_name.tar.bz2\" \"/content/drive/path/input_file_or_folder\"      #[run this cell to create tar.bz2 files]"
      ],
      "execution_count": null,
      "outputs": []
    },
    {
      "cell_type": "markdown",
      "metadata": {
        "id": "9pEUVtA4YeXV"
      },
      "source": [
        "# <center><font color='red'>__•••••••••••X•••••••••••__</font></center>"
      ]
    },
    {
      "cell_type": "markdown",
      "metadata": {
        "id": "eBHj7XMEp8N7"
      },
      "source": [
        "# 🚩<font color='#ff6363'><u>___Torrent-To-Drive-Colab___</u>"
      ]
    },
    {
      "cell_type": "markdown",
      "metadata": {
        "id": "-LpFJy-8qkBj"
      },
      "source": [
        "## *STEP 2 : পাইথন লাইব্রেরি ইন্সটল করুন*"
      ]
    },
    {
      "cell_type": "code",
      "metadata": {
        "cellView": "form",
        "colab": {
          "background_save": true
        },
        "id": "5gI5VBkKTXdA"
      },
      "source": [
        "#@title\n",
        "#@markdown <h3>⬅️ Click Here to START server</h3>\n",
        " \n",
        " \n",
        "!python -m pip install --upgrade pip setuptools wheel\n",
        "!python -m pip install lbry-libtorrent\n",
        "!apt install python3-libtorrent\n",
        " \n",
        "import libtorrent as lt\n",
        " \n",
        "ses = lt.session()\n",
        "ses.listen_on(6881, 6891)\n",
        "downloads = []\n",
        " \n",
        "from IPython.display import HTML, clear_output\n",
        " \n",
        "clear_output()\n",
        " \n",
        "print(\"Server Started Successfully\")"
      ],
      "execution_count": null,
      "outputs": []
    },
    {
      "cell_type": "markdown",
      "metadata": {
        "id": "39oOe1HirIge"
      },
      "source": [
        "## *STEP 3 : ম্যাগনেট লিংক থেকে টরেন্ট ফাইল ডাউনলোড (My Drive এর জন্য)*\n",
        " \n",
        "# ***Following steps for Google Drive Upload (Personal Drive)***\n",
        "<br><center><img src='https://i.ibb.co/2ZHRQqH/Personal-drive.png' height=\"100\" /></center>"
      ]
    },
    {
      "cell_type": "code",
      "metadata": {
        "cellView": "form",
        "id": "glTuJ-sTTnC7"
      },
      "source": [
        "#@title\n",
        "#@markdown <h3>⬅️ Click Here to </h3>\n",
        "#@markdown <h3>Add Magnet Link</h3>\n",
        "#@markdown <h5>You can run this cell to add more files as many times as you want.</h5>\n",
        "#@markdown <h5>You can download parallel file Using Magnet Link.</h5><br>\n",
        " \n",
        " \n",
        "params = {\"save_path\": \"/content/drive/My Drive/Torrent\"}\n",
        " \n",
        "while True:\n",
        "    magnet_link = input(\"Enter Magnet Link Or Type Exit: \")\n",
        "    if magnet_link.lower() == \"exit\":\n",
        "        break\n",
        "    downloads.append(\n",
        "        lt.add_magnet_uri(ses, magnet_link, params)\n",
        "    )"
      ],
      "execution_count": null,
      "outputs": []
    },
    {
      "cell_type": "markdown",
      "metadata": {
        "id": "XZxy4CxBUBj1"
      },
      "source": [
        "## *STEP 3 : ম্যাগনেট লিংক থেকে টরেন্ট ফাইল ডাউনলোড (Shared Drive এর জন্য)*\n",
        "\n",
        "# ***Following steps for Team Drive Upload (Shared Drive)***\n",
        "<br><center><img src='https://i.ibb.co/9GZ01LL/Shared-Drive.png' height=\"100\" /></center> \n",
        "\n"
      ]
    },
    {
      "cell_type": "code",
      "metadata": {
        "cellView": "form",
        "id": "eAun58HD6UPc"
      },
      "source": [
        "#@title\n",
        "#@markdown <h3>⬅️ Click Here to </h3>\n",
        "#@markdown <h3>Add Magnet Link</h3>\n",
        "#@markdown <h5>You can run this cell to add more files as many times as you want.</h5>\n",
        "#@markdown <h5>You can download parallel file Using Magnet Link.</h5><br>\n",
        "\n",
        "#@markdown <h3>Enter the path of Share Drive(where you want to download):</h3>\n",
        "path = \"\" #@param {type:\"string\"}\n",
        "check=[]\n",
        "params = {\"save_path\": path}\n",
        "\n",
        "while True:\n",
        "    magnet_link = input(\"Enter Magnet Link Or Type Exit: \")\n",
        "    if magnet_link.lower() == \"exit\":\n",
        "        break\n",
        "    downloads.append(\n",
        "        lt.add_magnet_uri(ses, magnet_link, params)\n",
        "    )\n",
        "\n",
        "clear_output()\n",
        "\n",
        "print(\"Started Successfully\")   \n"
      ],
      "execution_count": null,
      "outputs": []
    },
    {
      "cell_type": "markdown",
      "metadata": {
        "id": "f0p_edvFr2A-"
      },
      "source": [
        "## *STEP 4 : ক্ল্যাউড ট্রান্সফার শুরু করুন*"
      ]
    },
    {
      "cell_type": "code",
      "metadata": {
        "cellView": "form",
        "id": "TIwS1tb477AX"
      },
      "source": [
        "#@title\n",
        "#@markdown <h3>⬅️ Click Here to Start Download</h3>\n",
        "import time\n",
        "from IPython.display import display\n",
        "import ipywidgets as widgets\n",
        " \n",
        "state_str = [\n",
        "    \"queued\",\n",
        "    \"checking\",\n",
        "    \"downloading metadata\",\n",
        "    \"downloading\",\n",
        "    \"finished\",\n",
        "    \"seeding\",\n",
        "    \"allocating\",\n",
        "    \"checking fastresume\",\n",
        "]\n",
        " \n",
        "layout = widgets.Layout(width=\"auto\")\n",
        "style = {\"description_width\": \"initial\"}\n",
        "download_bars = [\n",
        "    widgets.FloatSlider(\n",
        "        step=0.01, disabled=True, layout=layout, style=style\n",
        "    )\n",
        "    for _ in downloads\n",
        "]\n",
        "display(*download_bars)\n",
        " \n",
        "while downloads:\n",
        "    next_shift = 0\n",
        "    for index, download in enumerate(downloads[:]):\n",
        "        bar = download_bars[index + next_shift]\n",
        "        if not download.is_seed():\n",
        "            s = download.status()\n",
        " \n",
        "            bar.description = \" \".join(\n",
        "                [\n",
        "                    download.name(),\n",
        "                    str(s.download_rate / 1000),\n",
        "                    \"kB/s\",\n",
        "                    state_str[s.state],\n",
        "                ]\n",
        "            )\n",
        "            bar.value = s.progress * 100\n",
        "        else:\n",
        "            next_shift -= 1\n",
        "            ses.remove_torrent(download)\n",
        "            downloads.remove(download)\n",
        "            bar.close() # Seems to be not working in Colab (see https://github.com/googlecolab/colabtools/issues/726#issue-486731758)\n",
        "            download_bars.remove(bar)\n",
        "            print(download.name(), \"complete\")\n",
        "    time.sleep(1)"
      ],
      "execution_count": null,
      "outputs": []
    },
    {
      "cell_type": "markdown",
      "metadata": {
        "id": "G3vPTAYdskmq"
      },
      "source": [
        "# <center><font color='red'>__•••••••••••X•••••••••••__</font></center>"
      ]
    },
    {
      "cell_type": "markdown",
      "metadata": {
        "id": "vE5Prjl5t1uQ"
      },
      "source": [
        "# 🚩<font color='#ff6363'><u>___Direct-Downloader-Colab___</u>"
      ]
    },
    {
      "cell_type": "markdown",
      "metadata": {
        "id": "gWhwzlICuf_w"
      },
      "source": [
        " <br><img src='https://upload.wikimedia.org/wikipedia/commons/thumb/d/da/Google_Drive_logo.png/600px-Google_Drive_logo.png' height=\"15\" alt=\"Gdrive-logo\"/> __TRANSFER FROM DIRECT LINK TO GOOGLE DRIVE__"
      ]
    },
    {
      "cell_type": "code",
      "metadata": {
        "cellView": "form",
        "id": "TlUNzybhWrfS"
      },
      "source": [
        "URL = \"https://f2.dnkiri.com/TV/Squid.Game/Squid.Game.S01E09.(NKIRI.COM).nciocniosdcnoisdncsdioncoisdnc.mkv \" #@param {type:\"string\"}\n",
        "#@markdown <center><h5>Default output path: /content/drive/MyDrive</h5></center>\n",
        "#@markdown <center><h5>For Google Drive output path: /content/drive/MyDrive/</h5></center>\n",
        "OUTPUT_PATH = \"/content/drive/MyDrive/YT_Downloads\" #@param {type:\"string\"}\n",
        " \n",
        "import pathlib\n",
        "import shutil\n",
        "import hashlib\n",
        "import requests\n",
        "from urllib.parse import urlparse\n",
        "from os import path, mkdir\n",
        "if not path.exists(\"/root/.ipython/ocr.py\"): \n",
        "    from subprocess import run\n",
        "    from shlex import split\n",
        " \n",
        "    shellCmd = \"wget -qq https://raw.githubusercontent.com/biplobsd/\" \\\n",
        "                \"OneClickRun/master/res/ocr.py \\\n",
        "                    -O /root/.ipython/ocr.py\"\n",
        "    run(split(shellCmd))\n",
        "from ocr import runSh\n",
        " \n",
        "def youtubedlInstall():\n",
        "  if not path.isfile(\"/usr/local/bin/youtube-dl\"):\n",
        "    cmdC = \"rm -rf /content/sample_data/ && \" \\\n",
        "            \" mkdir -p -m 666 /root/.YouTube-DL/ &&\" \\\n",
        "            \" apt-get install atomicparsley &&\" \\\n",
        "            \" curl -L https://yt-dl.org/downloads/latest/youtube-dl \" \\\n",
        "            \"-o /usr/local/bin/youtube-dl &&\" \\\n",
        "            \" chmod a+rx /usr/local/bin/youtube-dl\"\n",
        "    get_ipython().system_raw(cmdC)\n",
        " \n",
        "def aria2Install():\n",
        "  runSh('apt install -y aria2')\n",
        " \n",
        "def istmd(URL): \n",
        "  link = urlparse(URL)\n",
        "    \n",
        "  #YandexDisk\n",
        "  if link.netloc == \"yadi.sk\":\n",
        "    API_ENDPOINT = 'https://cloud-api.yandex.net/v1/disk/public/resources/' \\\n",
        "                    '?public_key={}&path=/{}&offset={}'\n",
        "    dry = False\n",
        "    def md5sum(file_path):\n",
        "        md5 = hashlib.md5()\n",
        "        with open(file_path, 'rb') as f:\n",
        "            for chunk in iter(lambda: f.read(128 * md5.block_size), b''):\n",
        "                md5.update(chunk)\n",
        "        return md5.hexdigest()\n",
        " \n",
        " \n",
        "    def check_and_download_file(target_path, url, size, checksum):\n",
        "        if path.isfile(target_path):\n",
        "            if size == path.getsize(target_path):\n",
        "                if checksum == md5sum(target_path):\n",
        "                    print('URL {}'.format(url))\n",
        "                    print('skipping correct {}'.format(target_path))\n",
        "                    return\n",
        "        if not dry:\n",
        "            print('URL {}'.format(url))\n",
        "            print('downloading {}'.format(target_path))\n",
        "            runSh(f'aria2c -x 16 -s 16 -k 1M -d {OUTPUT_PATH} {url}', output=True)\n",
        "            # r = requests.get(url, stream=True)\n",
        "            # with open(target_path, 'wb') as f:\n",
        "            #     shutil.copyfileobj(r.raw, f)\n",
        " \n",
        " \n",
        "    def download_path(target_path, public_key, source_path, offset=0):\n",
        "        print('getting \"{}\" at offset {}'.format(source_path, offset))\n",
        "        current_path = path.join(target_path, source_path)\n",
        "        pathlib.Path(current_path).mkdir(parents=True, exist_ok=True)\n",
        "        jsn = requests.get(API_ENDPOINT.format(public_key, source_path, offset)).json()\n",
        "        def try_as_file(j):\n",
        "            if 'file' in j:\n",
        "                file_save_path = path.join(current_path, j['name'])\n",
        "                check_and_download_file(file_save_path, j['file'], j['size'], j['md5'])\n",
        "                return True\n",
        "            return False\n",
        " \n",
        "        # first try to treat the actual json as a single file description\n",
        "        if try_as_file(jsn):\n",
        "            return\n",
        " \n",
        "        # otherwise treat it as a directory\n",
        "        emb = jsn['_embedded']\n",
        "        items = emb['items']\n",
        "        for i in items:\n",
        "            # each item can be a file...\n",
        "            if try_as_file(i):\n",
        "                continue\n",
        "            # ... or a directory\n",
        "            else:\n",
        "                subdir_path = path.join(source_path, i['name'])\n",
        "                download_path(target_path, public_key, subdir_path)\n",
        " \n",
        "        # check if current directory has more items\n",
        "        last = offset + emb['limit']\n",
        "        if last < emb['total']:\n",
        "            download_path(target_path, public_key, source_path, last)\n",
        "    download_path(OUTPUT_PATH, URL, '')\n",
        "    return False  \n",
        "  return URL\n",
        " \n",
        "if not OUTPUT_PATH:\n",
        "  OUTPUT_PATH = \"/content/drive/MyDrive\"\n",
        "  \n",
        "if not URL == \"\":\n",
        "  aria2Install()\n",
        "  youtubedlInstall()\n",
        "  try:\n",
        "    mkdir(\"downloads\")\n",
        "  except FileExistsError:\n",
        "    pass\n",
        "  url = istmd(URL)\n",
        "  if url != False:\n",
        "    print('URL {}'.format(URL))\n",
        "    cmdC = f'youtube-dl -o \"{OUTPUT_PATH}/%(title)s\" {URL} ' \\\n",
        "            '--external-downloader aria2c ' \\\n",
        "            '--external-downloader-args \"-x 16 -s 16 -k 1M\"'\n",
        "    runSh(cmdC, output=True)\n",
        "else:\n",
        "  print(\"Please input url\")"
      ],
      "execution_count": null,
      "outputs": []
    },
    {
      "cell_type": "markdown",
      "metadata": {
        "id": "Qu2RbZjJxB5y"
      },
      "source": [
        "# <center><font color='red'>__•••••••••••X•••••••••••__</font></center>"
      ]
    },
    {
      "cell_type": "markdown",
      "metadata": {
        "id": "CpfvkPu564cM"
      },
      "source": [
        "# 🚩<font color='#ff6363'><u>___Create-New-Folder-Colab___</u>"
      ]
    },
    {
      "cell_type": "code",
      "metadata": {
        "cellView": "form",
        "id": "bNTxcbff7lFo"
      },
      "source": [
        "import os\n",
        "\n",
        "#@markdown define the name of the directory to be created\n",
        "path = \"/content/drive/MyDrive/YT_Downloads\" #@param {type:\"string\"}\n",
        "\n",
        "try:\n",
        "    os.mkdir(path)\n",
        "except OSError:\n",
        "    print (\"Creation of the directory %s failed\" % path)\n",
        "else:\n",
        "    print (\"Successfully created the directory %s \" % path)\n"
      ],
      "execution_count": null,
      "outputs": []
    },
    {
      "cell_type": "markdown",
      "metadata": {
        "id": "hZo87XKN7YHm"
      },
      "source": [
        "# <center><font color='red'>__•••••••••••X•••••••••••__</font></center>"
      ]
    },
    {
      "cell_type": "markdown",
      "metadata": {
        "id": "trPRLFjfxovE"
      },
      "source": [
        "# 🚩<font color='#ff6363'><u>___YouTube-Downloader-Colab___</u>"
      ]
    },
    {
      "cell_type": "markdown",
      "metadata": {
        "id": "ll3uR99_ibc_"
      },
      "source": [
        "## ___PyTube___"
      ]
    },
    {
      "cell_type": "code",
      "metadata": {
        "cellView": "form",
        "id": "Ld1S7TYUiwu9"
      },
      "source": [
        "#@title ← Click to Run Server • install PyTube •\n",
        "!pip install git+https://github.com/pytube/pytube"
      ],
      "execution_count": null,
      "outputs": []
    },
    {
      "cell_type": "code",
      "metadata": {
        "cellView": "form",
        "id": "E9DaBtj4i7bX"
      },
      "source": [
        "#@title ← Click to Run Server • 'os_sys' for Mp3 •\n",
        "!pip install os_sys"
      ],
      "execution_count": null,
      "outputs": []
    },
    {
      "cell_type": "code",
      "metadata": {
        "cellView": "form",
        "id": "QtgwuVjqne-r"
      },
      "source": [
        "#@title ← Click to Download YouTube video\n",
        "from pytube import YouTube \n",
        "import os \n",
        "from IPython.display import HTML\n",
        "\n",
        "  \n",
        "# url input from user \n",
        "Yt_URL = 'https://m.youtube.com/watch?reload=9&v=RAsO2cfRs4w' #@param {type:\"string\"}\n",
        "yt = YouTube(str(Yt_URL))  \n",
        "\n",
        "Resolution = \"720p\" #@param [\"720p\", \"480p\", \"360p\", \"240p\", \"1080p\", \"1440p\"]\n",
        "video = yt.streams.filter(res=Resolution).first() \n",
        "Output_Path = '/content/drive/MyDrive/YT_Downloads' #@param {type:\"string\"}\n",
        "# download the file \n",
        "\n",
        "out_file = video.download(output_path=Output_Path) \n",
        "\n",
        "print (\"° %s °\" % out_file)\n",
        "\n",
        "file_size = os.path.getsize(str(out_file))\n",
        "\n",
        "print('File Size: ' \"%.2f\" % (file_size/1024**2), 'MB')\n",
        "HTML(f\"<textarea rows=2 cols=50> {out_file} </textarea>\")"
      ],
      "execution_count": null,
      "outputs": []
    },
    {
      "cell_type": "code",
      "metadata": {
        "cellView": "form",
        "id": "jBkqshrRjSin"
      },
      "source": [
        "#@title ← Click to Download ''YouTube MP3' file\n",
        "from pytube import YouTube \n",
        "\n",
        "import os \n",
        "\n",
        "  \n",
        "# url input from user \n",
        "Yt_URL = 'https://youtu.be/7amnLWMq6zM' #@param {type:\"string\"}\n",
        "yt = YouTube(str(Yt_URL))  \n",
        "\n",
        "video = yt.streams.filter(only_audio=True).first() \n",
        "Output_Path = '/content/drive/MyDrive/YT_Downloads' #@param {type:\"string\"}\n",
        "print (\"OutputPath → ° %s °\" % Output_Path)\n",
        "# download the file \n",
        "\n",
        "out_file = video.download(output_path=Output_Path) \n",
        "\n",
        "  \n",
        "# save the file \n",
        "\n",
        "base, ext = os.path.splitext(out_file) \n",
        "\n",
        "new_file = base + '.mp3'\n",
        "os.rename(out_file, new_file) \n",
        "\n",
        "  \n",
        "# result of success \n",
        "\n",
        "print(yt.title + \".mp3 has been successfully downloaded.\")\n",
        "\n",
        "file_size = os.path.getsize(str(new_file))\n",
        "print('File Size: ' \"%.2f\" % (file_size/1024**2), 'MB')"
      ],
      "execution_count": null,
      "outputs": []
    },
    {
      "cell_type": "markdown",
      "metadata": {
        "id": "t5yn-porhpKC"
      },
      "source": [
        "## ___YouTube-dl___"
      ]
    },
    {
      "cell_type": "markdown",
      "metadata": {
        "id": "Gh9dabzCyJgg"
      },
      "source": [
        "### Install Ytdl"
      ]
    },
    {
      "cell_type": "code",
      "metadata": {
        "cellView": "form",
        "id": "3xAVQXG6BWqu"
      },
      "source": [
        "#markdown #@title\n",
        "#@markdown <h3>⬅️ Click Here to START server</h3>\n",
        "!sudo curl -L https://yt-dl.org/downloads/latest/youtube-dl -o /usr/local/bin/youtube-dl"
      ],
      "execution_count": null,
      "outputs": []
    },
    {
      "cell_type": "code",
      "metadata": {
        "cellView": "form",
        "id": "P4W04nAYGXPw"
      },
      "source": [
        "#markdown #@title\n",
        "#@markdown <h3>⬅️ Click Here to START server</h3>\n",
        "!sudo chmod a+rx /usr/local/bin/youtube-dl"
      ],
      "execution_count": null,
      "outputs": []
    },
    {
      "cell_type": "markdown",
      "metadata": {
        "id": "yQyr_zfHz0qC"
      },
      "source": [
        "### change Your directory where You want to Download Your Playlist"
      ]
    },
    {
      "cell_type": "code",
      "metadata": {
        "cellView": "form",
        "id": "O1AMakyvm2m6"
      },
      "source": [
        "import os\n",
        "#@markdown <h3><b>←</b> Click Here to Start</h3>\n",
        "#@markdown Paste path for creating and selecting as YT Download\n",
        "path = \"/content/drive/MyDrive/YT_Downloads\" #@param {type:\"string\"}\n",
        "\n",
        "try:\n",
        "    os.mkdir(path)\n",
        "except OSError:\n",
        "    print (\"Creation of the directory %s failed\" % path)\n",
        "else:\n",
        "    print (\"Successfully created the directory %s \" % path)\n",
        "\n",
        "try:\n",
        "  os.chdir(path)\n",
        "except OSError:\n",
        "        print (\"Failed to make director %s \" % path)\n",
        "else:\n",
        "            print (\"Successfully made %s \" % path)\n"
      ],
      "execution_count": null,
      "outputs": []
    },
    {
      "cell_type": "markdown",
      "metadata": {
        "id": "Szc4itr803-t"
      },
      "source": [
        "### Download Video from any site"
      ]
    },
    {
      "cell_type": "markdown",
      "metadata": {
        "id": "g6RaC3m-1CKO"
      },
      "source": [
        " \n",
        " \n",
        "*   ID of Your Playlist From above example - **PLjwBf9QEIO979QpN8DZ_Q_E942KA_w27Q**\n",
        " \n",
        " \n",
        " \n",
        " \n",
        "---\n",
        " \n",
        " \n",
        "> For 480p Command Like this-\n",
        "***!youtube-dl -f 'bestvideo[height<=480]+bestaudio/best[height<=480]' -i \"yt playlist link or id\"***\n",
        " \n",
        "For quality Change Go to [YTDl Repo](https://github.com/ytdl-org/youtube-dl#format-selection) Format section"
      ]
    },
    {
      "cell_type": "code",
      "metadata": {
        "cellView": "form",
        "id": "-s_S0FMMRGUL"
      },
      "source": [
        "#@markdown <h3><b>←</b> Click Here to use youtube-dl</h3>\n",
        " \n",
        "import os, uuid, urllib.parse\n",
        "import ipywidgets as widgets\n",
        "Archive = False\n",
        " \n",
        "from glob import glob\n",
        "from urllib.parse import urlparse, parse_qs\n",
        "from IPython.display import HTML, clear_output, YouTubeVideo\n",
        "from IPython.utils.io import ask_yes_no\n",
        "from google.colab import output, files\n",
        " \n",
        "Links = widgets.Textarea(placeholder='''Video/Playlist Link\n",
        "(one link per line)''')\n",
        " \n",
        "VideoQ = widgets.Dropdown(options=[\"Best Quality (VP9 upto 4K)\", \"Best Compatibility (H.264 upto 1080p)\"])\n",
        " \n",
        "AudioQ = widgets.Dropdown(options=[\"Best Quality (Opus)\", \"Best Compatibility (M4A)\"])\n",
        " \n",
        "Subtitle = widgets.ToggleButton(value=True, description=\"Subtitle\", button_style=\"info\", tooltip=\"Subtitle\")\n",
        " \n",
        "SavePathYT = widgets.Dropdown(options=[\"/content\", \"/content/Downloads\"])\n",
        " \n",
        "AudioOnly = widgets.ToggleButton(value=False, description=\"Audio Only\", button_style=\"\", tooltip=\"Audio Only\")\n",
        " \n",
        "Resolution = widgets.Select(options=[\"Highest\", \"4K\", \"1440p\", \"1080p\", \"720p\", \"480p\", \"360p\", \"240p\", \"144p\"], value=\"Highest\")\n",
        " \n",
        "Extension = widgets.Select(options=[\"mkv\", \"webm\"], value=\"mkv\")\n",
        " \n",
        "UsernameYT = widgets.Text(placeholder=\"Username\")\n",
        " \n",
        "PasswordYT = widgets.Text(placeholder=\"Password\")\n",
        " \n",
        "SecAuth = widgets.Text(placeholder=\"2nd Factor Authentication\")\n",
        " \n",
        "VideoPW = widgets.Text(placeholder=\"Video Password\")\n",
        " \n",
        "GEOBypass = widgets.Dropdown(options=[\"Disable\", \"Hide\", \"AD\", \"AE\", \"AF\", \"AG\", \"AI\", \"AL\", \"AM\", \"AO\", \"AQ\", \"AR\", \"AS\", \"AT\", \"AU\", \"AW\", \"AX\", \"AZ\", \"BA\", \"BB\", \"BD\", \"BE\", \"BF\", \"BG\", \"BH\", \"BI\", \"BJ\", \"BL\", \"BM\", \"BN\", \"BO\", \"BQ\", \"BR\", \"BS\", \"BT\", \"BV\", \"BW\", \"BY\", \"BZ\", \"CA\", \"CC\", \"CD\", \"CF\", \"CG\", \"CH\", \"CI\", \"CK\", \"CL\", \"CM\", \"CN\", \"CO\", \"CR\", \"CU\", \"CV\", \"CW\", \"CX\", \"CY\", \"CZ\", \"DE\", \"DJ\", \"DK\", \"DM\", \"DO\", \"DZ\", \"EC\", \"EE\", \"EG\", \"EH\", \"ER\", \"ES\", \"ET\", \"FI\", \"FJ\", \"FK\", \"FM\", \"FO\", \"FR\", \"GA\", \"GB\", \"GD\", \"GE\", \"GF\", \"GG\", \"GH\", \"GI\", \"GL\", \"GM\", \"GN\", \"GP\", \"GQ\", \"GR\", \"GS\", \"GT\", \"GU\", \"GW\", \"GY\", \"HK\", \"HM\", \"HN\", \"HR\", \"HT\", \"HU\", \"ID\", \"IE\", \"IL\", \"IM\", \"IN\", \"IO\", \"IQ\", \"IR\", \"IS\", \"IT\", \"JE\", \"JM\", \"JO\", \"JP\", \"KE\", \"KG\", \"KH\", \"KI\", \"KM\", \"KN\", \"KP\", \"KR\", \"KW\", \"KY\", \"KZ\", \"LA\", \"LB\", \"LC\", \"LI\", \"LK\", \"LR\", \"LS\", \"LT\", \"LU\", \"LV\", \"LY\", \"MA\", \"MC\", \"MD\", \"ME\", \"MF\", \"MG\", \"MH\", \"MK\", \"ML\", \"MM\", \"MN\", \"MO\", \"MP\", \"MQ\", \"MR\", \"MS\", \"MT\", \"MU\", \"MV\", \"MW\", \"MX\", \"MY\", \"MZ\", \"NA\", \"NC\", \"NE\", \"NF\", \"NG\", \"NI\", \"NL\", \"NO\", \"NP\", \"NR\", \"NU\", \"NZ\", \"OM\", \"PA\", \"PE\", \"PF\", \"PG\", \"PH\", \"PK\", \"PL\", \"PM\", \"PN\", \"PR\", \"PS\", \"PT\", \"PW\", \"PY\", \"QA\", \"RE\", \"RO\", \"RS\", \"RU\", \"RW\", \"SA\", \"SB\", \"SC\", \"SD\", \"SE\", \"SG\", \"SH\", \"SI\", \"SJ\", \"SK\", \"SL\", \"SM\", \"SN\", \"SO\", \"SR\", \"SS\", \"ST\", \"SV\", \"SX\", \"SY\", \"SZ\", \"TC\", \"TD\", \"TF\", \"TG\", \"TH\", \"TJ\", \"TK\", \"TL\", \"TM\", \"TN\", \"TO\", \"TR\", \"TT\", \"TV\", \"TW\", \"TZ\", \"UA\", \"UG\", \"UM\", \"US\", \"UY\", \"UZ\", \"VA\", \"VC\", \"VE\", \"VG\", \"VI\", \"VN\", \"VU\", \"WF\", \"WS\", \"YE\", \"YT\", \"ZA\", \"ZM\", \"ZW\"])\n",
        " \n",
        "ProxyYT = widgets.Text(placeholder=\"Proxy URL\")\n",
        " \n",
        "MinSleep = widgets.BoundedIntText(value=0, min=0, max=300, step=1, description=\"Min:\")\n",
        " \n",
        "MaxSleep = widgets.BoundedIntText(value=0, min=0, max=300, step=1, description=\"Max:\")\n",
        " \n",
        "ExtraArg = widgets.Text(placeholder=\"Extra Arguments\")\n",
        " \n",
        "class MakeButton(object):\n",
        "  def __init__(self, title, callback, style):\n",
        "    self._title = title\n",
        "    self._callback = callback\n",
        "    self._style = style\n",
        "  def _repr_html_(self):\n",
        "    callback_id = 'button-' + str(uuid.uuid4())\n",
        "    output.register_callback(callback_id, self._callback)\n",
        "    if self._style != \"\":\n",
        "      style_html = \"p-Widget jupyter-widgets jupyter-button widget-button mod-\" + self._style\n",
        "    else:\n",
        "      style_html = \"p-Widget jupyter-widgets jupyter-button widget-button\"\n",
        "    template = \"\"\"<button class=\"{style_html}\" id=\"{callback_id}\">{title}</button>\n",
        "        <script>\n",
        "          document.querySelector(\"#{callback_id}\").onclick = (e) => {{\n",
        "            google.colab.kernel.invokeFunction('{callback_id}', [], {{}})\n",
        "            e.preventDefault();\n",
        "          }};\n",
        "        </script>\"\"\"\n",
        "    html = template.format(title=self._title, callback_id=callback_id, style_html=style_html)\n",
        "    return html\n",
        "  \n",
        "def MakeLabel(description, button_style):\n",
        "  return widgets.Button(description=description, disabled=True, button_style=button_style)\n",
        " \n",
        "def upload_archive():\n",
        "  if ask_yes_no(\"Do you already have an archive file? (y/n)\", default=\"\", interrupt=\"\"):\n",
        "    try:\n",
        "      display(HTML(\"<h2 style=\\\"font-family:Trebuchet MS;color:#4f8bd6;\\\">Please upload an archive from your computer.</h2><br>\"))\n",
        "      UploadConfig = files.upload().keys()\n",
        "      clear_output(wait=True)\n",
        "      if len(UploadConfig) == 0:\n",
        "        return display(HTML(\"<center><h2 style=\\\"font-family:Trebuchet MS;color:#ce2121;\\\">File upload has been cancelled during upload file.</h2><br></center>\"))\n",
        "      elif len(UploadConfig) == 1:\n",
        "        for fn in UploadConfig:\n",
        "          if os.path.isfile(\"/content/\" + fn):\n",
        "            get_ipython().system_raw(\"mv -f \" + \"\\\"\" + fn + \"\\\" /root/.youtube-dl.txt && chmod 666 /root/.youtube-dl.txt\")\n",
        "            AudioOnly.observe(AudioOnlyChange)\n",
        "            Subtitle.observe(SubtitleChange)\n",
        "            AudioQ.observe(AudioQChange)\n",
        "            ShowYT()\n",
        "          else:\n",
        "            return display(HTML(\"<center><h2 style=\\\"font-family:Trebuchet MS;color:#ce2121;\\\">File upload has been failed during upload file.</h2><br></center>\"))\n",
        "      else:\n",
        "        for fn in UploadConfig:\n",
        "          get_ipython().system_raw(\"rm -f \" + \"\\\"\" + fn + \"\\\"\")\n",
        "        return display(HTML(\"<center><h2 style=\\\"font-family:Trebuchet MS;color:#ce2121;\\\">Please uploading only one file at a time.</h2><br></center>\"))\n",
        "    except:\n",
        "      clear_output(wait=True)\n",
        "      return display(HTML(\"<center><h2 style=\\\"font-family:Trebuchet MS;color:#ce2121;\\\">Error occurred during upload file.</h2><br></center>\"))\n",
        "  else:\n",
        "    get_ipython().system_raw(\"touch '/root/.youtube-dl.txt'\")\n",
        "    AudioOnly.observe(AudioOnlyChange)\n",
        "    Subtitle.observe(SubtitleChange)\n",
        "    AudioQ.observe(AudioQChange)\n",
        "    ShowYT()\n",
        " \n",
        "def RefreshPathYT():\n",
        "  if os.path.exists(\"/content/drive/\"):\n",
        "    if os.path.exists(\"/content/drive/Shared drives/\"):\n",
        "      SavePathYT.options = [\"/content\", \"/content/Downloads\", \"/content/drive/My Drive\"] + glob(\"/content/drive/My Drive/*/\") + glob(\"/content/drive/Shared drives/*/\")\n",
        "    else:\n",
        "      SavePathYT.options = [\"/content\", \"/content/Downloads\", \"/content/drive/My Drive\"] + glob(\"/content/drive/My Drive/*/\")\n",
        "  else:\n",
        "    SavePathYT.options = [\"/content\", \"/content/Downloads\"]\n",
        " \n",
        "def AudioOnlyChange(change):\n",
        "  if change[\"type\"] == \"change\" and change[\"new\"]:\n",
        "    VideoQ.disabled = True\n",
        "    Subtitle.disabled = True\n",
        "    if Subtitle.value:\n",
        "      Subtitle.button_style = \"info\"\n",
        "    else:\n",
        "      Subtitle.button_style = \"\"\n",
        "    Resolution.disabled = True\n",
        "    Extension.options = [\"best\", \"aac\", \"flac\", \"mp3\", \"m4a\", \"opus\", \"vorbis\", \"wav\"]\n",
        "    Extension.value = \"best\"\n",
        "    AudioOnly.button_style = \"info\"\n",
        "  elif change[\"type\"] == \"change\" and change[\"new\"] == False:\n",
        "    VideoQ.disabled = False\n",
        "    Subtitle.disabled = False\n",
        "    if Subtitle.value:\n",
        "      Subtitle.button_style = \"info\"\n",
        "    else:\n",
        "      Subtitle.button_style = \"\"\n",
        "    Resolution.disabled = False\n",
        "    if AudioQ.value == \"Best Quality (Opus)\":\n",
        "      Extension.options = [\"mkv\", \"webm\"]\n",
        "    else:\n",
        "      Extension.options = [\"mkv\", \"mp4\", \"webm\"]\n",
        "    Extension.value = \"mkv\"\n",
        "    AudioOnly.button_style = \"\"\n",
        " \n",
        "def SubtitleChange(change):\n",
        "  if change[\"type\"] == \"change\" and change[\"new\"]:\n",
        "    Subtitle.button_style = \"info\"\n",
        "  elif change[\"type\"] == \"change\" and change[\"new\"] == False:\n",
        "    Subtitle.button_style = \"\"\n",
        " \n",
        "def AudioQChange(change):\n",
        "  if change[\"type\"] == \"change\" and change[\"new\"] == \"Best Quality (Opus)\":\n",
        "    Extension.options = [\"mkv\", \"webm\"]\n",
        "    Extension.value = \"mkv\"\n",
        "  elif change[\"type\"] == \"change\" and change[\"new\"] == \"Best Compatibility (M4A)\":\n",
        "    Extension.options = [\"mkv\", \"mp4\", \"webm\"]\n",
        "    Extension.value = \"mkv\"\n",
        " \n",
        "def ShowYT():\n",
        "  clear_output(wait=True)\n",
        "  RefreshPathYT()\n",
        "  display(widgets.HBox([widgets.VBox([widgets.HTML(\"<b style=\\\"color:#888888;\\\">Link:</b>\"), Links,\n",
        "                                      widgets.HTML(\"<b style=\\\"color:#888888;\\\">For website that require an account:</b>\"), UsernameYT, PasswordYT, SecAuth, VideoPW,\n",
        "                                      widgets.HTML(\"<b><a href=\\\"https://en.wikipedia.org/wiki/ISO_3166-1_alpha-2#Officially_assigned_code_elements\\\" target=\\\"_blank\\\">GEO Bypass Country:</a></b>\"), GEOBypass,\n",
        "                                      widgets.HTML(\"<b style=\\\"color:#888888;\\\">Proxy:</b>\"), ProxyYT,\n",
        "                                      widgets.HTML(\"<b style=\\\"color:#888888;\\\">Sleep Interval (second):</b>\"), MinSleep, MaxSleep]),\n",
        "                        widgets.VBox([widgets.HTML(\"<b style=\\\"color:#888888;\\\">Video Quality:</b>\"), VideoQ, widgets.HTML(\"<b style=\\\"color:#888888;\\\">Resolution:</b>\"), Resolution,\n",
        "                                      widgets.HTML(\"<b style=\\\"color:#888888;\\\">Audio Quality:</b>\"), AudioQ, widgets.HTML(\"<b style=\\\"color:#888888;\\\">Extension:</b>\"), Extension,\n",
        "                                      widgets.HTML(\"<b style=\\\"color:#888888;\\\">Extra Options:</b>\"), widgets.HBox([Subtitle, AudioOnly]),\n",
        "                                      widgets.HTML(\"<b style=\\\"color:#888888;\\\">Extra Arguments:</b>\"), ExtraArg])]), HTML(\"<h4 style=\\\"color:#888888;\\\">Save Location:</h4>\"),\n",
        "          SavePathYT, MakeButton(\"Refresh\", RefreshPathYT, \"\"))\n",
        "  if not os.path.exists(\"/content/drive/\"):\n",
        "    display(HTML(\"*If you want to save in Google Drive please run the cell below.\"))\n",
        "  display(HTML(\"<br>\"), MakeButton(\"Download\", DownloadYT, \"info\"))\n",
        " \n",
        "def DownloadYT():\n",
        "  if Links.value.strip():\n",
        "    Count = 0\n",
        "    Total = str(len(Links.value.splitlines()))\n",
        "    # Account Check\n",
        "    if UsernameYT.value.strip() and PasswordYT.value.strip():\n",
        "      accountC = \"--username \\\"\" + UsernameYT.value + \"\\\" --password \\\"\" + PasswordYT.value + \"\\\"\"\n",
        "    else:\n",
        "      accountC = \"\"\n",
        "    if SecAuth.value.strip():\n",
        "      secauthC = \"-2 \" + SecAuth.value\n",
        "    else:\n",
        "      secauthC = \"\"\n",
        "    if VideoPW.value.strip():\n",
        "      videopwC = \"--video-password \" + VideoPW.value\n",
        "    else:\n",
        "      videopwC = \"\"\n",
        "    # Proxy\n",
        "    if ProxyYT.value.strip():\n",
        "      proxyytC = \"--proxy \" + ProxyYT.value\n",
        "    else:\n",
        "      proxyytC = \"\"\n",
        "    # GEO Bypass\n",
        "    if GEOBypass.value == \"Disable\":\n",
        "      geobypass = \"\"\n",
        "    elif GEOBypass.value == \"Hide\":\n",
        "      geobypass = \"--geo-bypass\"\n",
        "    else:\n",
        "      geobypass = \"--geo-bypass-country \" + GEOBypass.value\n",
        "    # Video Quality\n",
        "    if VideoQ.value == \"Best Quality (VP9 upto 4K)\":\n",
        "      videoqC = \"webm\"\n",
        "    else:\n",
        "      videoqC = \"mp4\"\n",
        "    # Audio Quality\n",
        "    if AudioQ.value == \"Best Quality (Opus)\":\n",
        "      audioqC = \"webm\"\n",
        "    else:\n",
        "      audioqC = \"m4a\"\n",
        "    # Audio Only Check\n",
        "    if AudioOnly.value:\n",
        "      subtitleC = \"\"\n",
        "      thumbnailC = \"\"\n",
        "      extC = \"-x --audio-quality 0 --audio-format \" + Extension.value\n",
        "      codecC = \"bestaudio[ext=\" + audioqC + \"]/bestaudio/best\"\n",
        "    else:\n",
        "      if Subtitle.value:\n",
        "        subtitleC = \"--all-subs --convert-subs srt --embed-subs\"\n",
        "      else:\n",
        "        subtitleC = \"\"\n",
        "      if Extension.value == \"mp4\":\n",
        "        thumbnailC = \"--embed-thumbnail\"\n",
        "      else:\n",
        "        thumbnailC = \"\"\n",
        "      extC = \"--merge-output-format \" + Extension.value\n",
        "      if Resolution.value == \"Highest\":\n",
        "        codecC = \"bestvideo[ext=\" + videoqC + \"]+bestaudio[ext=\" + audioqC + \"]/bestvideo+bestaudio/best\"\n",
        "      else:\n",
        "        codecC = \"bestvideo[ext=\" + videoqC + \",height<=\" + Resolution.value.replace(\"4K\", \"2160\").replace(\"p\", \"\") + \"]+bestaudio[ext=\" + audioqC + \"]/bestvideo[height<=\" + Resolution.value.replace(\"4K\", \"2160\").replace(\"p\", \"\") + \"]+bestaudio/bestvideo+bestaudio/best\"\n",
        "    # Archive\n",
        "    if os.path.isfile(\"/root/.youtube-dl.txt\"):\n",
        "      archiveC = \"--download-archive \\\"/root/.youtube-dl.txt\\\"\"\n",
        "    else:\n",
        "      archiveC = \"\"\n",
        "    # Sleep Interval\n",
        "    if MinSleep.value > 0 and MaxSleep.value > 0:\n",
        "      minsleepC = \"--min-sleep-interval \" + MinSleep.value\n",
        "      maxsleepC = \"--max-sleep-interval \" + MaxSleep.value\n",
        "    else:\n",
        "      minsleepC = \"\"\n",
        "      maxsleepC = \"\"\n",
        "    # Extra Arguments\n",
        "    extraargC = ExtraArg.value\n",
        "    for Link in Links.value.splitlines():\n",
        "      clear_output(wait=True)\n",
        "      Count += 1\n",
        "      display(HTML(\"<h3 style=\\\"font-family:Trebuchet MS;color:#4f8bd6;\\\">Processing link \" + str(Count) + \" out of \" + Total + \"</h3>\"))\n",
        "      if \"youtube.com\" in Link or \"youtu.be\" in Link:\n",
        "        display(HTML(\"<h3 style=\\\"font-family:Trebuchet MS;color:#4f8bd6;\\\">Currently downloading...</h3><br>\"), YouTubeVideo(Link, width=640, height=360), HTML(\"<br>\"))\n",
        "      else:\n",
        "        display(HTML(\"<h3 style=\\\"font-family:Trebuchet MS;color:#4f8bd6;\\\">Currently downloading <a href=\\\"\" + Link + \"\\\">\" + Link + \"</a></h3><br>\"))\n",
        "      if (\"youtube.com\" in Link or \"youtu.be\" in Link) and \"list=\" in Link:\n",
        "        !youtube-dl -i --no-warnings --yes-playlist --add-metadata $accountC $secauthC $videopwC $minsleepC $maxsleepC $geobypass $proxyytC $extC $thumbnailC $subtitleC $archiveC $extraargC -f \"$codecC\" -o \"/root/.YouTube-DL/%(playlist)s/%(playlist_index)s - %(title)s.%(ext)s\" \"$Link\"\n",
        "      else:\n",
        "        !youtube-dl -i --no-warnings --yes-playlist --add-metadata $accountC $secauthC $videopwC $minsleepC $maxsleepC $geobypass $proxyytC $extC $thumbnailC $subtitleC $archiveC $extraargC -f \"$codecC\" -o \"/root/.YouTube-DL/%(title)s.%(ext)s\" \"$Link\"\n",
        "      if not os.path.exists(SavePathYT.value):\n",
        "        get_ipython().system_raw(\"mkdir -p -m 666 \" + SavePathYT.value)\n",
        "      get_ipython().system_raw(\"mv /root/.YouTube-DL/* '\" + SavePathYT.value + \"/'\")\n",
        "    # Archive Download\n",
        "    if os.path.isfile(\"/root/.youtube-dl.txt\"):\n",
        "      files.download(\"/root/.youtube-dl.txt\")\n",
        "    ShowYT()\n",
        " \n",
        "if not os.path.isfile(\"/usr/local/bin/youtube-dl\"):\n",
        "  get_ipython().system_raw(\"rm -rf /content/sample_data/ && mkdir -p -m 666 /root/.YouTube-DL/ && apt-get install atomicparsley && curl -L https://yt-dl.org/downloads/latest/youtube-dl -o /usr/local/bin/youtube-dl && chmod a+rx /usr/local/bin/youtube-dl\")\n",
        "if Archive:\n",
        "  upload_archive()\n",
        "else:\n",
        "  AudioOnly.observe(AudioOnlyChange)\n",
        "  Subtitle.observe(SubtitleChange)\n",
        "  AudioQ.observe(AudioQChange)\n",
        "  ShowYT()"
      ],
      "execution_count": null,
      "outputs": []
    },
    {
      "cell_type": "markdown",
      "metadata": {
        "id": "XBOe2jPl3WRj"
      },
      "source": [
        "### Now We are Going to Download Whole Channel"
      ]
    },
    {
      "cell_type": "code",
      "metadata": {
        "id": "puvncRCy3l0J"
      },
      "source": [
        "!youtube-dl -f '(bestvideo+bestaudio/best)'  -ciw -o \"%(title)s.%(ext)s\" -v \"https://www.youtube.com/c/AngryPrashReal/videos\""
      ],
      "execution_count": null,
      "outputs": []
    },
    {
      "cell_type": "markdown",
      "metadata": {
        "id": "ag_VjIYx35-9"
      },
      "source": [
        "# <center><font color='red'>__•••••••••••X•••••••••••__</font></center>"
      ]
    },
    {
      "cell_type": "markdown",
      "metadata": {
        "id": "oqJkMYf_7tvd"
      },
      "source": [
        "# 🚩<font color='#ff6363'><u>___Delete-File/Folder-Colab___</u>"
      ]
    },
    {
      "cell_type": "code",
      "metadata": {
        "cellView": "form",
        "colab": {
          "background_save": true
        },
        "id": "cfOXwMasdrWc"
      },
      "source": [
        "#@title ← Click to Run Delete Folder With File\n",
        "Path_To_Delete = \"/content/drive/MyDrive/YT_Downloads\" #@param {type:\"string\"}\n",
        "import shutil\n",
        "shutil.rmtree(Path_To_Delete)\n",
        "print (\"Successfully Deleted → ° %s °\" % Path_To_Delete)"
      ],
      "execution_count": null,
      "outputs": []
    },
    {
      "cell_type": "code",
      "metadata": {
        "cellView": "form",
        "id": "c4_sqgfqrNej"
      },
      "source": [
        "#@title ← Click to Run Delete File \n",
        "import os\n",
        "filePath = '/content/drive/MyDrive/YT_Downloads/O Maa _ OST of Maayer Daak _ Rupak _ Tahsan _ Tawsif _ Jovan _ Mamo _ Farin _ Payel _ Dilara Zaman-7amnLWMq6zM.mkv' #@param {type:\"string\"}\n",
        "\n",
        "if os.path.exists(filePath):\n",
        "    os.remove(filePath)\n",
        "    print (\"Successfully Deleted → ° %s °\" % filePath)\n",
        "else:\n",
        "    print(\"Can not delete the file as it doesn't exists\")"
      ],
      "execution_count": null,
      "outputs": []
    },
    {
      "cell_type": "markdown",
      "metadata": {
        "id": "RWiMH16C8ANH"
      },
      "source": [
        "# <center><font color='red'>__•••••••••••X•••••••••••__</font></center>"
      ]
    },
    {
      "cell_type": "markdown",
      "metadata": {
        "id": "WRCM_-0S5F4V"
      },
      "source": [
        "# 🚩<font color='#ff6363'><u>___FFmpeg-Converter-Colab___</u>"
      ]
    },
    {
      "cell_type": "markdown",
      "metadata": {
        "id": "FTIDJ9hd5iE7"
      },
      "source": [
        "## **1.** Install FFmpeg"
      ]
    },
    {
      "cell_type": "code",
      "metadata": {
        "cellView": "form",
        "id": "p3NTt77X5eyg"
      },
      "source": [
        "#markdown #@title\n",
        "#@markdown <h3>⬅️ Click Here to START FFmpeg</h3>\n",
        "!apt install ffmpeg"
      ],
      "execution_count": null,
      "outputs": []
    },
    {
      "cell_type": "markdown",
      "metadata": {
        "id": "LsH2s7Lj5hZb"
      },
      "source": [
        "##» Display Media File Metadata"
      ]
    },
    {
      "cell_type": "code",
      "metadata": {
        "cellView": "form",
        "colab": {
          "background_save": true
        },
        "id": "t9takLC85d6E"
      },
      "source": [
        "import os, sys, re\n",
        "\n",
        "media_file_path = \"/content/drive/MyDrive/YT_Downloads/O Maa _ OST of Maayer Daak _ Rupak _ Tahsan _ Tawsif _ Jovan _ Mamo _ Farin _ Payel _ Dilara Zaman-7amnLWMq6zM.mkv\" #@param {type:\"string\"}\n",
        "\n",
        "os.environ['inputFile'] = media_file_path\n",
        "\n",
        "!ffmpeg -i \"$inputFile\" -hide_banner"
      ],
      "execution_count": null,
      "outputs": []
    },
    {
      "cell_type": "markdown",
      "metadata": {
        "id": "lTbfKxdX5giC"
      },
      "source": [
        "> *You can ignore the* \"`At least one output file must be specified`\" *error after running this.*\n",
        "\n",
        "\n"
      ]
    },
    {
      "cell_type": "markdown",
      "metadata": {
        "id": "lOcCX2Kb5fe2"
      },
      "source": [
        "##» Convert *Video File* ➔ *.mp4* (*Lossless*)"
      ]
    },
    {
      "cell_type": "code",
      "metadata": {
        "cellView": "form",
        "id": "VPk92Q3ozThu"
      },
      "source": [
        "import os, sys, re\n",
        "\n",
        "video_file_path = \"/content/drive/MyDrive/Torrent/O Maa _ OST of Maayer Daak _ Rupak _ Tahsan _ Tawsif _ Jovan _ Mamo _ Farin _ Payel _ Dilara Zaman.mkv\" #@param {type:\"string\"}\n",
        "\n",
        "output_file_path = re.search(\"^[\\/].+\\/\", video_file_path)\n",
        "output_file_path_raw = output_file_path.group(0)\n",
        "delsplit = re.search(\"\\/(?:.(?!\\/))+$\", video_file_path)\n",
        "filename = re.sub(\"^[\\/]\", \"\", delsplit.group(0))\n",
        "filename_raw = re.sub(\".{4}$\", \"\", filename)\n",
        "file_extension = re.search(\".{3}$\", filename)\n",
        "file_extension_raw = file_extension.group(0)\n",
        "\n",
        "os.environ['inputFile'] = video_file_path\n",
        "os.environ['outputPath'] = output_file_path_raw\n",
        "os.environ['fileName'] = filename_raw\n",
        "os.environ['fileExtension'] = file_extension_raw\n",
        "\n",
        "!ffmpeg -hide_banner -i \"$inputFile\" -c copy -strict -2 \"$outputPath\"/\"$fileName\".mp4"
      ],
      "execution_count": null,
      "outputs": []
    },
    {
      "cell_type": "markdown",
      "metadata": {
        "id": "IkST90KA7WEH"
      },
      "source": [
        "##» Convert *Video File* ➔ *.mkv* (*Lossless*)"
      ]
    },
    {
      "cell_type": "code",
      "metadata": {
        "cellView": "form",
        "id": "OByo4qwIzO4-"
      },
      "source": [
        "import os, sys, re\n",
        "\n",
        "video_file_path = \"\" #@param {type:\"string\"}\n",
        "\n",
        "output_file_path = re.search(\"^[\\/].+\\/\", video_file_path)\n",
        "output_file_path_raw = output_file_path.group(0)\n",
        "delsplit = re.search(\"\\/(?:.(?!\\/))+$\", video_file_path)\n",
        "filename = re.sub(\"^[\\/]\", \"\", delsplit.group(0))\n",
        "filename_raw = re.sub(\".{4}$\", \"\", filename)\n",
        "file_extension = re.search(\".{3}$\", filename)\n",
        "file_extension_raw = file_extension.group(0)\n",
        "\n",
        "os.environ['inputFile'] = video_file_path\n",
        "os.environ['outputPath'] = output_file_path_raw\n",
        "os.environ['startTime'] = start_time\n",
        "os.environ['endTime'] = end_time\n",
        "os.environ['fileName'] = filename_raw\n",
        "os.environ['fileExtension'] = file_extension_raw\n",
        "\n",
        "!ffmpeg -hide_banner -i \"$inputFile\" -c copy -strict -2 \"$outputPath\"/\"$fileName\".mkv"
      ],
      "execution_count": null,
      "outputs": []
    },
    {
      "cell_type": "markdown",
      "metadata": {
        "id": "Wq_76vwh738X"
      },
      "source": [
        "##» Trim Video File (*Lossless*)"
      ]
    },
    {
      "cell_type": "code",
      "metadata": {
        "cellView": "form",
        "id": "3eHIiBlZ78jv"
      },
      "source": [
        "import os, sys, re\n",
        "\n",
        "video_file_path = \"\" #@param {type:\"string\"}\n",
        "start_time = \"00:00:00.000\" #@param {type:\"string\"}\n",
        "end_time = \"00:01:00.000\" #@param {type:\"string\"}\n",
        "\n",
        "output_file_path = re.search(\"^[\\/].+\\/\", video_file_path)\n",
        "output_file_path_raw = output_file_path.group(0)\n",
        "delsplit = re.search(\"\\/(?:.(?!\\/))+$\", video_file_path)\n",
        "filename = re.sub(\"^[\\/]\", \"\", delsplit.group(0))\n",
        "filename_raw = re.sub(\".{4}$\", \"\", filename)\n",
        "file_extension = re.search(\".{3}$\", filename)\n",
        "file_extension_raw = file_extension.group(0)\n",
        "\n",
        "os.environ['inputFile'] = video_file_path\n",
        "os.environ['outputPath'] = output_file_path_raw\n",
        "os.environ['startTime'] = start_time\n",
        "os.environ['endTime'] = end_time\n",
        "os.environ['fileName'] = filename_raw\n",
        "os.environ['fileExtension'] = file_extension_raw\n",
        "\n",
        "!ffmpeg -hide_banner -i \"$inputFile\" -ss \"$startTime\" -to \"$endTime\" -c copy \"$outputPath\"/\"$fileName\"-TRIM.\"$fileExtension\""
      ],
      "execution_count": null,
      "outputs": []
    },
    {
      "cell_type": "markdown",
      "metadata": {
        "id": "2MElXAaq81Qr"
      },
      "source": [
        "##» Crop Video"
      ]
    },
    {
      "cell_type": "code",
      "metadata": {
        "cellView": "form",
        "id": "EbEJeGLe89mt"
      },
      "source": [
        "import os, sys, re\n",
        "\n",
        "video_file_path = \"\" #@param {type:\"string\"}\n",
        "out_width = \"1920\" #@param {type:\"string\"}\n",
        "out_height = \"804\" #@param {type:\"string\"}\n",
        "starting_position_x = \"0\" #@param {type:\"string\"}\n",
        "starting_position_y = \"138\" #@param {type:\"string\"}\n",
        "\n",
        "output_file_path = re.search(\"^[\\/].+\\/\", video_file_path)\n",
        "output_file_path_raw = output_file_path.group(0)\n",
        "delsplit = re.search(\"\\/(?:.(?!\\/))+$\", video_file_path)\n",
        "filename = re.sub(\"^[\\/]\", \"\", delsplit.group(0))\n",
        "filename_raw = re.sub(\".{4}$\", \"\", filename)\n",
        "file_extension = re.search(\".{3}$\", filename)\n",
        "file_extension_raw = file_extension.group(0)\n",
        "\n",
        "os.environ['inputFile'] = video_file_path\n",
        "os.environ['outputPath'] = output_file_path_raw\n",
        "os.environ['outWidth'] = out_width\n",
        "os.environ['outHeight'] = out_height\n",
        "os.environ['positionX'] = starting_position_x\n",
        "os.environ['positionY'] = starting_position_y\n",
        "os.environ['fileName'] = filename_raw\n",
        "os.environ['fileExtension'] = file_extension_raw\n",
        "\n",
        "!ffmpeg -hide_banner -i \"$inputFile\" -filter:v \"crop=$outWidth:$outHeight:$positionX:$positionY\" \"$outputPath\"/\"$fileName\"-CROP.\"$fileExtension\""
      ],
      "execution_count": null,
      "outputs": []
    },
    {
      "cell_type": "markdown",
      "metadata": {
        "id": "qnlr1ryd9u3E"
      },
      "source": [
        "##» Extract Audio from Video File (*Lossless*)"
      ]
    },
    {
      "cell_type": "code",
      "metadata": {
        "cellView": "form",
        "colab": {
          "background_save": true
        },
        "id": "UZUfN-1e9tpi"
      },
      "source": [
        "import os, sys, re\n",
        "\n",
        "video_file_path = \"/content/drive/MyDrive/YT_Downloads/O Maa _ OST of Maayer Daak _ Rupak _ Tahsan _ Tawsif _ Jovan _ Mamo _ Farin _ Payel _ Dilara Zaman-7amnLWMq6zM.mkv\" #@param {type:\"string\"}\n",
        "output_file_extension = 'mp3' #@param [\"m4a\", \"mp3\", \"opus\", \"flac\", \"wav\"]\n",
        "\n",
        "delsplit = re.search(\"\\/(?:.(?!\\/))+$\", video_file_path)\n",
        "output_file_path = re.search(\"^[\\/].+\\/\", video_file_path)\n",
        "filename = re.sub(\"^[\\/]\", \"\", delsplit.group(0))\n",
        "filename_raw = re.sub(\".{4}$\", \"\", filename)\n",
        "\n",
        "os.environ['inputFile'] = video_file_path\n",
        "os.environ['outputPath'] = output_file_path.group(0)\n",
        "os.environ['fileName'] = filename_raw\n",
        "os.environ['fileType'] = output_file_extension\n",
        "\n",
        "!ffmpeg -hide_banner -i \"$inputFile\" -vn -c:a copy \"$outputPath\"/\"$fileName\"-audio.\"$fileType\""
      ],
      "execution_count": null,
      "outputs": []
    },
    {
      "cell_type": "markdown",
      "metadata": {
        "id": "XHp4-52c-Lg_"
      },
      "source": [
        "##» Re-encode a Video to a Different Resolution"
      ]
    },
    {
      "cell_type": "code",
      "metadata": {
        "cellView": "form",
        "id": "NvF8yD25-KIR"
      },
      "source": [
        "import os, sys, re\n",
        "\n",
        "video_file_path = '' #@param {type:\"string\"}\n",
        "resolution = '1080p' #@param [\"2160p\", \"1440p\", \"1080p\", \"720p\", \"480p\", \"360p\", \"240p\"]\n",
        "file_type = 'mp4' #@param [\"mkv\", \"mp4\"]\n",
        "\n",
        "delsplit = re.search(\"\\/(?:.(?!\\/))+$\", video_file_path)\n",
        "testsplit = video_file_path.split(\"/\")\n",
        "filename = re.sub(\"^[\\/]\", \"\", delsplit.group(0))\n",
        "filename_raw = re.sub(\".{4}$\", \"\", filename)\n",
        "resolution_raw = re.search(\"[^p]{3,4}\", resolution)\n",
        "output_file_path = re.search(\"^[\\/].+\\/\", video_file_path)\n",
        "\n",
        "os.environ['inputFile'] = video_file_path\n",
        "os.environ['outputPath'] = output_file_path.group(0)\n",
        "os.environ['fileName'] = filename_raw\n",
        "os.environ['fileType'] = file_type\n",
        "os.environ['resolutionHeight'] = resolution_raw.group(0)\n",
        "\n",
        "!ffmpeg -hide_banner -i \"$inputFile\" -vf \"scale=-1:\"$resolutionHeight\"\" -c:a copy -strict experimental \"$outputPath\"/\"$fileName\"-\"$resolutionHeight\"p.\"$fileType\""
      ],
      "execution_count": null,
      "outputs": []
    },
    {
      "cell_type": "markdown",
      "metadata": {
        "id": "Z4ffV7NP-m-q"
      },
      "source": [
        "##» Extract Individual Frames from Video (*Lossless*)"
      ]
    },
    {
      "cell_type": "code",
      "metadata": {
        "cellView": "form",
        "id": "A4hqoCER-lyj"
      },
      "source": [
        "import os, sys, re\n",
        "\n",
        "video_file_path = \"\" #@param {type:\"string\"}\n",
        "start_time = \"00:00:00.000\" #@param {type:\"string\"}\n",
        "end_time = \"00:01:00.000\" #@param {type:\"string\"}\n",
        "frame_rate = \"23.976\" #@param {type:\"string\"}\n",
        "\n",
        "output_file_path = re.search(\"^[\\/].+\\/\", video_file_path)\n",
        "output_file_path_raw = output_file_path.group(0)\n",
        "delsplit = re.search(\"\\/(?:.(?!\\/))+$\", video_file_path)\n",
        "filename = re.sub(\"^[\\/]\", \"\", delsplit.group(0))\n",
        "filename_raw = re.sub(\".{4}$\", \"\", filename)\n",
        "file_extension = re.search(\".{3}$\", filename)\n",
        "file_extension_raw = file_extension.group(0)\n",
        "\n",
        "os.environ['inputFile'] = video_file_path\n",
        "os.environ['outputPath'] = output_file_path_raw\n",
        "os.environ['startTime'] = start_time\n",
        "os.environ['endTime'] = end_time\n",
        "os.environ['frameRate'] = frame_rate\n",
        "os.environ['fileName'] = filename_raw\n",
        "os.environ['fileExtension'] = file_extension_raw\n",
        "\n",
        "!mkdir \"$outputPath\"/\"Extracted Frames\"\n",
        "!ffmpeg -hide_banner -i \"$inputFile\" -ss \"$startTime\" -to \"$endTime\" -r \"$frameRate\"/1 \"$outputPath\"/\"Extracted Frames\"/frame%04d.png"
      ],
      "execution_count": null,
      "outputs": []
    },
    {
      "cell_type": "markdown",
      "metadata": {
        "id": "TDta6MPx-8kE"
      },
      "source": [
        "##### This will create a folder in the same directory titled \"`Extracted Frames`\"\n",
        "* [*Example*](https://yuju.pw/y/36pP.png) *of output folder*"
      ]
    },
    {
      "cell_type": "markdown",
      "metadata": {
        "id": "AabioRnH_hdz"
      },
      "source": [
        "##» Generate Thumbnails - Preview from Video (3x2)"
      ]
    },
    {
      "cell_type": "code",
      "metadata": {
        "cellView": "form",
        "id": "t43XOtdP_vsx"
      },
      "source": [
        "import os, sys, re\n",
        "\n",
        "video_file_path = \"\" #@param {type:\"string\"}\n",
        "output_file_type = 'png' #@param [\"png\", \"jpg\"]\n",
        "\n",
        "output_file_path = re.search(\"^[\\/].+\\/\", video_file_path)\n",
        "output_file_path_raw = output_file_path.group(0)\n",
        "delsplit = re.search(\"\\/(?:.(?!\\/))+$\", video_file_path)\n",
        "filename = re.sub(\"^[\\/]\", \"\", delsplit.group(0))\n",
        "filename_raw = re.sub(\".{4}$\", \"\", filename)\n",
        "file_extension = re.search(\".{3}$\", filename)\n",
        "file_extension_raw = file_extension.group(0)\n",
        "\n",
        "os.environ['inputFile'] = video_file_path\n",
        "os.environ['outputPath'] = output_file_path_raw\n",
        "os.environ['outputExtension'] = output_file_type\n",
        "os.environ['fileName'] = filename_raw\n",
        "os.environ['fileExtension'] = file_extension_raw\n",
        "\n",
        "!ffmpeg -hide_banner -i \"$inputFile\" -vframes 1 -q:v 0 -vf \"select=not(mod(n\\,200)),scale=-1:480,tile=3x2\" -an \"$outputPath\"/\"$fileName\"_thumbnails.\"$outputExtension\""
      ],
      "execution_count": null,
      "outputs": []
    },
    {
      "cell_type": "markdown",
      "metadata": {
        "id": "KxNY3VkA_uWb"
      },
      "source": [
        "##### This will create a 3x2 layout in the same directory as your video file.\n",
        "* [*Example*](https://yuju.pw/y/39i2.png) *of output image*"
      ]
    },
    {
      "cell_type": "markdown",
      "metadata": {
        "id": "u7m0qScVACfO"
      },
      "source": [
        "##» Convert Audio Filetype (*mp3, m4a, ogg, flac, etc.*)"
      ]
    },
    {
      "cell_type": "code",
      "metadata": {
        "cellView": "form",
        "id": "nPe0iysxAA7z"
      },
      "source": [
        "import os, sys, re\n",
        "\n",
        "audio_file_path = \"\" #@param {type:\"string\"}\n",
        "output_file_type = \"mp3\" #@param [\"mp3\", \"ogg\", \"m4a\", \"opus\", \"flac\", \"alac\", \"wav\"]\n",
        "\n",
        "output_file_path = re.search(\"^[\\/].+\\/\", audio_file_path)\n",
        "output_file_path_raw = output_file_path.group(0)\n",
        "delsplit = re.search(\"\\/(?:.(?!\\/))+$\", audio_file_path)\n",
        "filename = re.sub(\"^[\\/]\", \"\", delsplit.group(0))\n",
        "filename_raw = re.sub(\".{4}$\", \"\", filename)\n",
        "file_extension = re.search(\".{3}$\", filename)\n",
        "file_extension_raw = file_extension.group(0)\n",
        "\n",
        "os.environ['inputFile'] = audio_file_path\n",
        "os.environ['outputPath'] = output_file_path_raw\n",
        "os.environ['fileExtension'] = output_file_type\n",
        "os.environ['fileName'] = filename_raw\n",
        "\n",
        "!ffmpeg -hide_banner -i \"$inputFile\" \"$outputPath\"/\"$fileName\"converted.\"$fileExtension\""
      ],
      "execution_count": null,
      "outputs": []
    },
    {
      "cell_type": "markdown",
      "metadata": {
        "id": "-UTzV-LKBKcE"
      },
      "source": [
        "# <center><font color='red'>__•••••••••••X•••••••••••__</font></center>"
      ]
    },
    {
      "cell_type": "markdown",
      "source": [
        "# 🚩<font color='#ff6363'><u>___Mega to Drive___"
      ],
      "metadata": {
        "id": "GHKF7ax9jV_w"
      }
    },
    {
      "cell_type": "code",
      "source": [
        "import sys, os, urllib.request\n",
        "import time\n",
        "import subprocess\n",
        "import contextlib\n",
        "from IPython.display import clear_output\n",
        "#@markdown <br><center><img src='https://mega.nz/favicon.ico?v=3' height=\"50\" alt=\"MEGA-logo\"/></center>\n",
        "#@markdown <center><h2>Transfer from Mega to GDrive</h2></center><br>\n",
        "HOME = os.path.expanduser(\"~\")\n",
        "if not os.path.exists(f\"{HOME}/.ipython/ocr.py\"):\n",
        "    hCode = \"https://raw.githubusercontent.com/biplobsd/\" \\\n",
        "                    \"OneClickRun/master/res/ocr.py\"\n",
        "                        urllib.request.urlretrieve(hCode, f\"{HOME}/.ipython/ocr.py\")\n",
        "\n",
        "                        from ocr import (\n",
        "                            runSh,\n",
        "                                loadingAn,\n",
        "                                )\n",
        "                                #@title MEGA public link download\n",
        "                                URL = \"\" #@param {type:\"string\"}\n",
        "                                OUTPUT_PATH = \"\" #@param {type:\"string\"}\n",
        "                                #@markdown #####_*Sometimes this cell doesn't stop itself after the completion of the transfer. In case of that stop the cell manually._\n",
        "                                if not OUTPUT_PATH:\n",
        "                                  os.makedirs(\"downloads\", exist_ok=True)\n",
        "                                    OUTPUT_PATH = \"downloads\"\n",
        "                                    # MEGAcmd installing\n",
        "                                    if not os.path.exists(\"/usr/bin/mega-cmd\"):\n",
        "                                        loadingAn()\n",
        "                                            print(\"Installing MEGA ...\")\n",
        "                                                runSh('sudo apt-get -y update')\n",
        "                                                    runSh('sudo apt-get -y install libmms0 libc-ares2 libc6 libcrypto++6 libgcc1 libmediainfo0v5 libpcre3 libpcrecpp0v5 libssl1.1 libstdc++6 libzen0v5 zlib1g apt-transport-https')\n",
        "                                                        runSh('sudo curl -sL -o /var/cache/apt/archives/MEGAcmd.deb https://mega.nz/linux/MEGAsync/Debian_9.0/amd64/megacmd-Debian_9.0_amd64.deb', output=True)\n",
        "                                                            runSh('sudo dpkg -i /var/cache/apt/archives/MEGAcmd.deb', output=True)\n",
        "                                                                print(\"MEGA is installed.\")\n",
        "                                                                    clear_output()\n",
        "\n",
        "                                                                    # Unix, Windows and old Macintosh end-of-line\n",
        "                                                                    newlines = ['\\n', '\\r\\n', '\\r']\n",
        "\n",
        "                                                                    def unbuffered(proc, stream='stdout'):\n",
        "                                                                        stream = getattr(proc, stream)\n",
        "                                                                            with contextlib.closing(stream):\n",
        "                                                                                    while True:\n",
        "                                                                                                out = []\n",
        "                                                                                                            last = stream.read(1)\n",
        "                                                                                                                        # Don't loop forever\n",
        "                                                                                                                                    if last == '' and proc.poll() is not None:\n",
        "                                                                                                                                                    break\n",
        "                                                                                                                                                                while last not in newlines:\n",
        "                                                                                                                                                                                # Don't loop forever\n",
        "                                                                                                                                                                                                if last == '' and proc.poll() is not None:\n",
        "                                                                                                                                                                                                                    break\n",
        "                                                                                                                                                                                                                                    out.append(last)\n",
        "                                                                                                                                                                                                                                                    last = stream.read(1)\n",
        "                                                                                                                                                                                                                                                                out = ''.join(out)\n",
        "                                                                                                                                                                                                                                                                            yield out\n",
        "\n",
        "\n",
        "                                                                                                                                                                                                                                                                            def transfare():\n",
        "                                                                                                                                                                                                                                                                                import codecs\n",
        "                                                                                                                                                                                                                                                                                    decoder = codecs.getincrementaldecoder(\"UTF-8\")()\n",
        "                                                                                                                                                                                                                                                                                        cmd = [\"mega-get\", URL, OUTPUT_PATH]\n",
        "                                                                                                                                                                                                                                                                                            proc = subprocess.Popen(\n",
        "                                                                                                                                                                                                                                                                                                    cmd,\n",
        "                                                                                                                                                                                                                                                                                                            stdout=subprocess.PIPE,\n",
        "                                                                                                                                                                                                                                                                                                                    stderr=subprocess.STDOUT,\n",
        "                                                                                                                                                                                                                                                                                                                            # Make all end-of-lines '\\n'\n",
        "                                                                                                                                                                                                                                                                                                                                    universal_newlines=True,\n",
        "                                                                                                                                                                                                                                                                                                                                        )\n",
        "                                                                                                                                                                                                                                                                                                                                            for line in unbuffered(proc):\n",
        "                                                                                                                                                                                                                                                                                                                                                    print(line)\n",
        "                                                                                                                                                                                                                                                                                                                                                            \n",
        "\n",
        "\n",
        "                                                                                                                                                                                                                                                                                                                                                            transfare()\n",
        "\n",
        "                                                                                                                                                                                                                                                                                                                                                            "
      ],
      "metadata": {
        "id": "nhzi6QdkhjsX",
        "cellView": "form"
      },
      "execution_count": null,
      "outputs": []
    },
    {
      "cell_type": "markdown",
      "metadata": {
        "id": "7fAr0jhAKMh2"
      },
      "source": [
        "# <center><font color='red'>__•••••••••••X•••••••••••__</font></center>"
      ]
    },
    {
      "cell_type": "markdown",
      "metadata": {
        "id": "NZe7SpWDKY07"
      },
      "source": [
        "# <center><font color='red'>__•••••••••••X•••••••••••__</font></center>"
      ]
    },
    {
      "cell_type": "markdown",
      "metadata": {
        "id": "FGZpm5vEKJvO"
      },
      "source": [
        "# <center><font color='red'>__•••••••••••X•••••••••••__</font></center>"
      ]
    }
  ]
}